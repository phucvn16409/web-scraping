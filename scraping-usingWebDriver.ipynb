{
 "cells": [
  {
   "cell_type": "markdown",
   "metadata": {},
   "source": [
    "<h1><b>Scraping Data Using WebDriver ✍</b></h1>"
   ]
  },
  {
   "cell_type": "markdown",
   "metadata": {},
   "source": [
    "## 1. Iimport Library"
   ]
  },
  {
   "cell_type": "code",
   "execution_count": 35,
   "metadata": {},
   "outputs": [],
   "source": [
    "# Import libraries and packages for the project \n",
    "\n",
    "from selenium import webdriver\n",
    "from selenium.webdriver.common.keys import Keys\n",
    "from selenium.webdriver.common.by import By\n",
    "from selenium.webdriver.support.ui import Select\n",
    "from bs4 import BeautifulSoup\n",
    "from time import sleep\n",
    "import csv\n",
    "import requests \n",
    "import pandas as pd\n",
    "\n",
    "\n",
    "driver = webdriver.Edge()"
   ]
  },
  {
   "cell_type": "markdown",
   "metadata": {},
   "source": [
    "## 2. Extract Img & Info from Web"
   ]
  },
  {
   "cell_type": "code",
   "execution_count": null,
   "metadata": {},
   "outputs": [],
   "source": [
    "brand_til=[] \n",
    "productName_til=[] \n",
    "ml_til=[]\n",
    "price_til=[]\n",
    "sex_til=[]\n",
    "url_til=[]\n",
    "content_til=[]\n",
    "# Set the directory for saving the image\n",
    "directory = r'D:\\Workspaces\\Data Analyst\\Tool\\Img'\n",
    "\n",
    "input_page = int(input('How many pages you want to scrape: '))\n",
    "no = 1 \n",
    "for i in range(input_page):\n",
    "    perfume_URL = f'https://xxivstore.com/shop/page/{i+1}/?orderby=popularity'\n",
    "    driver.get(perfume_URL) \n",
    "    page_source = BeautifulSoup(driver.page_source, \"html.parser\")\n",
    "    info_div = page_source.find('ul', {'class': 'products'})\n",
    "    \n",
    "    info_loc = info_div.find_all('li')\n",
    "    for n in range(len(info_loc)):\n",
    "        brand = info_loc[n].find('span', {'class': 'brand'}).get_text()\n",
    "        productName = info_loc[n].find('a', {'class': 'product-name'}).get_text()\n",
    "        \n",
    "        url_href = info_loc[n].find('a', href=True)\n",
    "        url = url_href['href']\n",
    "        driver.get(url)\n",
    "        page_source2 = BeautifulSoup(driver.page_source, \"html.parser\")\n",
    "        ml = page_source2.find('td', {'class': 'value'})\n",
    "        ml1 = ml.find_all('option')[1].get_text()\n",
    "        price1 = page_source2.find('div', {'class': 'hidden-variable-price'}).get_text()\n",
    "        price1 = price1.replace(\"₫\", \"\").replace(\".\",\"\").strip()\n",
    "        content = page_source2.find('div', {'class': 'content'}).get_text().strip()\n",
    "        \n",
    "        try:\n",
    "            sex = page_source2.find('p', {'class': 'gender-wrap'}).get_text()\n",
    "        except:\n",
    "            sex = ' Unisex'\n",
    "        \n",
    "        img = page_source2.find('div',{'class': 'woocommerce-product-gallery__image'}).find('a', href = True)\n",
    "        url_img = img['href'] \n",
    "        var = requests.get(url_img)\n",
    "        with open(f'D:\\Workspaces\\Data Analyst\\Tool\\Img\\{no} - {productName} - {ml1}.png', 'wb') as f:\n",
    "            f.write(var.content)\n",
    "        \n",
    "        brand_til.append(brand) \n",
    "        productName_til.append(productName) \n",
    "        ml_til.append(ml1) \n",
    "        price_til.append(price1) \n",
    "        sex_til.append(sex)\n",
    "        url_til.append(url)\n",
    "        content_til.append(content) \n",
    "        # writer.writerow({headers[0]:brand, headers[1]:productName, headers[2]:ml1, headers[3]:price1, headers[4]:sex, headers[5]:url, headers[6]:content})\n",
    "        try:\n",
    "            ml2 = ml.find_all('option')[2].get_text()\n",
    "            find = \\\n",
    "            driver.find_element(By.ID, \"dung-tich\")\n",
    "            select_element = Select(find)\n",
    "            select_element.select_by_visible_text(f\"{ml2}\")\n",
    "            \n",
    "            sleep(0.2)\n",
    "            \n",
    "            page_source3 = BeautifulSoup(driver.page_source, \"html.parser\")\n",
    "            price2 = page_source3.find('span', {'class': 'woocommerce-Price-amount'}).get_text()\n",
    "            price2 = price2.replace(\"₫\", \"\").replace(\".\",\"\").strip()\n",
    "            try:\n",
    "                sex = page_source3.find('p', {'class': 'gender-wrap'}).get_text()\n",
    "            except:\n",
    "                sex = ' Unisex'\n",
    "            no = no + 1\n",
    "            with open(f'D:\\Workspaces\\Data Analyst\\Tool\\Img\\{no} - {productName} - {ml2}.png', 'wb') as f:\n",
    "                f.write(var.content)\n",
    "            \n",
    "            brand_til.append(brand) \n",
    "            productName_til.append(productName) \n",
    "            ml_til.append(ml2) \n",
    "            price_til.append(price2) \n",
    "            sex_til.append(sex)\n",
    "            url_til.append(url)\n",
    "            content_til.append(content)\n",
    "            \n",
    "            no = no + 1\n",
    "        except:\n",
    "            no = no + 1\n",
    "     \n",
    "    print(f'Page {i+1} is completed')\n",
    "    \n",
    "\n",
    "df = pd.DataFrame({'Brand':brand_til,'Product Name':productName_til,'Capacity':ml_til, 'Price':price_til, 'For':sex_til, 'Link':url_til, 'Introduction':content_til,}) \n",
    "df.to_excel('Perfume.xlsx', index=False)  \n",
    "print('Mission Completed!')"
   ]
  }
 ],
 "metadata": {
  "kernelspec": {
   "display_name": "Python 3",
   "language": "python",
   "name": "python3"
  },
  "language_info": {
   "codemirror_mode": {
    "name": "ipython",
    "version": 3
   },
   "file_extension": ".py",
   "mimetype": "text/x-python",
   "name": "python",
   "nbconvert_exporter": "python",
   "pygments_lexer": "ipython3",
   "version": "3.11.0"
  },
  "orig_nbformat": 4
 },
 "nbformat": 4,
 "nbformat_minor": 2
}
